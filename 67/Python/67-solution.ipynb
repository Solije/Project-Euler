{
 "cells": [
  {
   "cell_type": "markdown",
   "metadata": {},
   "source": [
    "# Problem 67\n",
    "\n",
    "By starting at the top of the triangle below and moving to adjacent numbers on the row below, the maximum total from top to bottom is 23.\n",
    "\n",
    "<center>\n",
    "3<br>\n",
    "7 4<br>\n",
    "2 4 6<br>\n",
    "8 5 9 3\n",
    "</center>\n",
    "\n",
    "That is, 3 + 7 + 4 + 9 = 23.\n",
    "\n",
    "Find the maximum total from top to bottom in triangle.txt, a 15K text file containing a triangle with one-hundred rows."
   ]
  },
  {
   "cell_type": "code",
   "execution_count": 8,
   "metadata": {},
   "outputs": [],
   "source": [
    "with open(\"p067_triangle.txt\") as tri_file:\n",
    "    triangle = []\n",
    "    for line in tri_file:\n",
    "        line_list = line.rstrip().split(\" \") \n",
    "        triangle.append([int(x) for x in line_list])"
   ]
  },
  {
   "cell_type": "code",
   "execution_count": 12,
   "metadata": {},
   "outputs": [
    {
     "data": {
      "text/plain": [
       "[[59],\n",
       " [73, 41],\n",
       " [52, 40, 9],\n",
       " [26, 53, 6, 34],\n",
       " [10, 51, 87, 86, 81],\n",
       " [61, 95, 66, 57, 25, 68],\n",
       " [90, 81, 80, 38, 92, 67, 73],\n",
       " [30, 28, 51, 76, 81, 18, 75, 44],\n",
       " [84, 14, 95, 87, 62, 81, 17, 78, 58],\n",
       " [21, 46, 71, 58, 2, 79, 62, 39, 31, 9],\n",
       " [56, 34, 35, 53, 78, 31, 81, 18, 90, 93, 15],\n",
       " [78, 53, 4, 21, 84, 93, 32, 13, 97, 11, 37, 51],\n",
       " [45, 3, 81, 79, 5, 18, 78, 86, 13, 30, 63, 99, 95],\n",
       " [39, 87, 96, 28, 3, 38, 42, 17, 82, 87, 58, 7, 22, 57],\n",
       " [6, 17, 51, 17, 7, 93, 9, 7, 75, 97, 95, 78, 87, 8, 53],\n",
       " [67, 66, 59, 60, 88, 99, 94, 65, 55, 77, 55, 34, 27, 53, 78, 28],\n",
       " [76, 40, 41, 4, 87, 16, 9, 42, 75, 69, 23, 97, 30, 60, 10, 79, 87],\n",
       " [12, 10, 44, 26, 21, 36, 32, 84, 98, 60, 13, 12, 36, 16, 63, 31, 91, 35],\n",
       " [70, 39, 6, 5, 55, 27, 38, 48, 28, 22, 34, 35, 62, 62, 15, 14, 94, 89, 86],\n",
       " [66, 56, 68, 84, 96, 21, 34, 34, 34, 81, 62, 40, 65, 54, 62, 5, 98, 3, 2, 60]]"
      ]
     },
     "execution_count": 12,
     "metadata": {},
     "output_type": "execute_result"
    }
   ],
   "source": [
    "triangle[:20]"
   ]
  },
  {
   "cell_type": "markdown",
   "metadata": {},
   "source": [
    "# Solution\n",
    "\n",
    "We solve this using dynamic programming methods.\n",
    "\n",
    "Start from the bottom of the triangle replacing each element in the second bottom row with itself plus the largest accessible element in the bottom row. We then discard the bottom row from the triangle and repeat until we reach the top."
   ]
  },
  {
   "cell_type": "code",
   "execution_count": 10,
   "metadata": {},
   "outputs": [],
   "source": [
    "def solve_rows(top_row, bottom_row):\n",
    "    result_row = []\n",
    "    for position, number in enumerate(top_row):\n",
    "        result_row.append(max([number + bottom_row[position],\n",
    "                               number + bottom_row[position+1]]))\n",
    "    return result_row\n",
    "\n",
    "def find_max_path(input_triangle):\n",
    "    triangle = input_triangle.copy()\n",
    "    while len(triangle)>1:\n",
    "        bottom_row = triangle.pop()\n",
    "        top_row = triangle.pop()\n",
    "        result_row = solve_rows(top_row, bottom_row)\n",
    "        triangle.append(result_row)\n",
    "    return triangle[0][0]"
   ]
  },
  {
   "cell_type": "code",
   "execution_count": 11,
   "metadata": {},
   "outputs": [
    {
     "data": {
      "text/plain": [
       "7273"
      ]
     },
     "execution_count": 11,
     "metadata": {},
     "output_type": "execute_result"
    }
   ],
   "source": [
    "find_max_path(triangle)"
   ]
  },
  {
   "cell_type": "code",
   "execution_count": null,
   "metadata": {},
   "outputs": [],
   "source": []
  }
 ],
 "metadata": {
  "kernelspec": {
   "display_name": "Python 3",
   "language": "python",
   "name": "python3"
  },
  "language_info": {
   "codemirror_mode": {
    "name": "ipython",
    "version": 3
   },
   "file_extension": ".py",
   "mimetype": "text/x-python",
   "name": "python",
   "nbconvert_exporter": "python",
   "pygments_lexer": "ipython3",
   "version": "3.6.7"
  }
 },
 "nbformat": 4,
 "nbformat_minor": 2
}
