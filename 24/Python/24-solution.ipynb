{
 "cells": [
  {
   "cell_type": "markdown",
   "metadata": {},
   "source": [
    "# Problem 24\n",
    "\n",
    "A permutation is an ordered arrangement of objects. For example, 3124 is one possible permutation of the digits 1, 2, 3 and 4. If all of the permutations are listed numerically or alphabetically, we call it lexicographic order. The lexicographic permutations of 0, 1 and 2 are:\n",
    "\n",
    "012   021   102   120   201   210\n",
    "\n",
    "What is the millionth lexicographic permutation of the digits 0, 1, 2, 3, 4, 5, 6, 7, 8 and 9?\n",
    "\n"
   ]
  },
  {
   "cell_type": "code",
   "execution_count": 74,
   "metadata": {},
   "outputs": [],
   "source": [
    "digits = \"0123456789\""
   ]
  },
  {
   "cell_type": "code",
   "execution_count": 88,
   "metadata": {},
   "outputs": [],
   "source": [
    "from math import factorial\n",
    "\n",
    "def find_target_permutation(digits, target = 10**6-1, prefix=''):\n",
    "    #Return the accumulator in base case\n",
    "    if not digits:\n",
    "        return prefix\n",
    "    \n",
    "    digits = digits.copy()\n",
    "    print(digits)\n",
    "    \n",
    "    # Calculate how many permutations there are in the n-1 case\n",
    "    perms = factorial(len(digits)-1)\n",
    "    # Pull out the digit such that target permutation is in the n-1 subproblem\n",
    "    first_digit_position = int(target//perms)\n",
    "    new_target = target - first_digit_position * perms\n",
    "    \n",
    "    # Choose the next digit and apply it to the end of prefix\n",
    "    first_digit = digits.pop(first_digit_position)\n",
    "    prefix += str(first_digit)\n",
    "    \n",
    "    return find_target_permutation(digits, new_target, prefix)"
   ]
  },
  {
   "cell_type": "code",
   "execution_count": 89,
   "metadata": {},
   "outputs": [
    {
     "name": "stdout",
     "output_type": "stream",
     "text": [
      "[0, 1, 2, 3, 4, 5, 6, 7, 8, 9]\n",
      "[0, 1, 3, 4, 5, 6, 7, 8, 9]\n",
      "[0, 1, 3, 4, 5, 6, 8, 9]\n",
      "[0, 1, 3, 4, 5, 6, 9]\n",
      "[0, 1, 4, 5, 6, 9]\n",
      "[0, 1, 4, 5, 6]\n",
      "[0, 4, 5, 6]\n",
      "[0, 4, 6]\n",
      "[0, 6]\n",
      "[0]\n"
     ]
    },
    {
     "data": {
      "text/plain": [
       "'2783915460'"
      ]
     },
     "execution_count": 89,
     "metadata": {},
     "output_type": "execute_result"
    }
   ],
   "source": [
    "find_target_permutation(digits)"
   ]
  },
  {
   "cell_type": "code",
   "execution_count": 24,
   "metadata": {},
   "outputs": [
    {
     "data": {
      "text/plain": [
       "1088640"
      ]
     },
     "execution_count": 24,
     "metadata": {},
     "output_type": "execute_result"
    }
   ],
   "source": []
  },
  {
   "cell_type": "code",
   "execution_count": null,
   "metadata": {},
   "outputs": [],
   "source": []
  }
 ],
 "metadata": {
  "kernelspec": {
   "display_name": "Python 3",
   "language": "python",
   "name": "python3"
  },
  "language_info": {
   "codemirror_mode": {
    "name": "ipython",
    "version": 3
   },
   "file_extension": ".py",
   "mimetype": "text/x-python",
   "name": "python",
   "nbconvert_exporter": "python",
   "pygments_lexer": "ipython3",
   "version": "3.6.7"
  }
 },
 "nbformat": 4,
 "nbformat_minor": 2
}
