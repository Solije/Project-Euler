{
 "cells": [
  {
   "cell_type": "markdown",
   "metadata": {},
   "source": [
    "# Problem 7\n",
    "\n",
    "By listing the first six prime numbers: 2, 3, 5, 7, 11, and 13, we can see that the 6th prime is 13.\n",
    "\n",
    "What is the 10 001st prime number?\n"
   ]
  },
  {
   "cell_type": "code",
   "execution_count": null,
   "metadata": {},
   "outputs": [],
   "source": []
  },
  {
   "cell_type": "code",
   "execution_count": 85,
   "metadata": {},
   "outputs": [],
   "source": [
    "def prime_sieve(limit=10**6):\n",
    "    prime_list = [-1] * limit\n",
    "    prime_list[0] = 0\n",
    "    prime_list[1] = 0\n",
    "    index = 2\n",
    "    while True:\n",
    "        prime_list[index] = 1\n",
    "        next_prime_number = index\n",
    "        for i in range(2*next_prime_number, limit, next_prime_number):\n",
    "            prime_list[i] = 0\n",
    "        try:\n",
    "            while prime_list[index] != -1:\n",
    "                index +=1\n",
    "        except IndexError:\n",
    "            return prime_list"
   ]
  },
  {
   "cell_type": "code",
   "execution_count": 72,
   "metadata": {},
   "outputs": [],
   "source": [
    "def find_nth_prime(n):\n",
    "    prime_count = 0\n",
    "    prime_list = prime_sieve()\n",
    "    for number, is_prime in enumerate(prime_list):\n",
    "        prime_count += is_prime\n",
    "        if prime_count == n:\n",
    "            return number\n",
    "        "
   ]
  },
  {
   "cell_type": "code",
   "execution_count": 89,
   "metadata": {},
   "outputs": [
    {
     "data": {
      "text/plain": [
       "104743"
      ]
     },
     "execution_count": 89,
     "metadata": {},
     "output_type": "execute_result"
    }
   ],
   "source": [
    "find_nth_prime(10001)"
   ]
  }
 ],
 "metadata": {
  "kernelspec": {
   "display_name": "Python 3",
   "language": "python",
   "name": "python3"
  },
  "language_info": {
   "codemirror_mode": {
    "name": "ipython",
    "version": 3
   },
   "file_extension": ".py",
   "mimetype": "text/x-python",
   "name": "python",
   "nbconvert_exporter": "python",
   "pygments_lexer": "ipython3",
   "version": "3.6.7"
  }
 },
 "nbformat": 4,
 "nbformat_minor": 2
}
